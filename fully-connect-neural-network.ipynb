{
 "cells": [
  {
   "cell_type": "markdown",
   "metadata": {},
   "source": [
    "__Download MNIST data__"
   ]
  },
  {
   "cell_type": "code",
   "execution_count": 1,
   "metadata": {
    "collapsed": false
   },
   "outputs": [
    {
     "name": "stdout",
     "output_type": "stream",
     "text": [
      "Extracting MNIST_data/train-images-idx3-ubyte.gz\n",
      "Extracting MNIST_data/train-labels-idx1-ubyte.gz\n",
      "Extracting MNIST_data/t10k-images-idx3-ubyte.gz\n",
      "Extracting MNIST_data/t10k-labels-idx1-ubyte.gz\n"
     ]
    }
   ],
   "source": [
    "from tensorflow.examples.tutorials.mnist import input_data\n",
    "mnist = input_data.read_data_sets('MNIST_data', one_hot=True)"
   ]
  },
  {
   "cell_type": "markdown",
   "metadata": {},
   "source": [
    "__Example image from test data__"
   ]
  },
  {
   "cell_type": "code",
   "execution_count": 2,
   "metadata": {
    "collapsed": false,
    "scrolled": true
   },
   "outputs": [
    {
     "data": {
      "image/png": "[encoded data removed]",
      "text/plain": [
       "<IPython.core.display.Image object>"
      ]
     },
     "metadata": {},
     "output_type": "display_data"
    }
   ],
   "source": [
    "from PIL import Image\n",
    "from io import BytesIO\n",
    "import IPython.display\n",
    "import numpy as np\n",
    "\n",
    "\n",
    "def display(img):\n",
    "    img = img.reshape((28,28)) * 255\n",
    "\n",
    "    f = BytesIO()\n",
    "    img = np.uint8(img)\n",
    "    Image.fromarray(img).save(f, 'png')\n",
    "\n",
    "    IPython.display.display(IPython.display.Image(data=f.getvalue()))\n",
    "    \n",
    "img = mnist.test.images[0]\n",
    "display(img)"
   ]
  },
  {
   "cell_type": "code",
   "execution_count": 3,
   "metadata": {
    "collapsed": false
   },
   "outputs": [],
   "source": [
    "import tensorflow as tf\n",
    "BATCH_SIZE = 10\n",
    "LABEL_SIZE = 10\n",
    "\n",
    "_, IMAGE_PIXELS = mnist.train.images.shape\n",
    "# placeholder for input data\n",
    "x = tf.placeholder(tf.float32, shape=(None, IMAGE_PIXELS))\n",
    "# placeholder for input correct answers\n",
    "t = tf.placeholder(tf.float32, shape=(None, LABEL_SIZE))"
   ]
  },
  {
   "cell_type": "markdown",
   "metadata": {},
   "source": [
    "__Create hidden layers & output layer__"
   ]
  },
  {
   "cell_type": "code",
   "execution_count": 4,
   "metadata": {
    "collapsed": false
   },
   "outputs": [],
   "source": [
    "import math\n",
    "HIDDEN1_UNITS = 50\n",
    "HIDDEN2_UNITS = 30\n",
    "\n",
    "with tf.name_scope('hidden1'):\n",
    "    W1 = tf.Variable(\n",
    "            tf.truncated_normal([IMAGE_PIXELS, HIDDEN1_UNITS],\n",
    "                                 stddev=1.0 / math.sqrt(float(IMAGE_PIXELS))),\n",
    "            name='h1_weights')\n",
    "    b1 = tf.Variable(tf.zeros([HIDDEN1_UNITS]),\n",
    "                     name='h1_bias')\n",
    "    \n",
    "with tf.name_scope('hidden2'):\n",
    "    W2 = tf.Variable(\n",
    "            tf.truncated_normal([HIDDEN1_UNITS, HIDDEN2_UNITS]),\n",
    "            name='h2_weights')\n",
    "    b2 = tf.Variable(tf.zeros([HIDDEN2_UNITS]),\n",
    "                     name='h2_bias')\n",
    "    \n",
    "with tf.name_scope('output'):\n",
    "    W3 = tf.Variable(\n",
    "            tf.truncated_normal([HIDDEN2_UNITS, LABEL_SIZE]),\n",
    "            name='o_weights')\n",
    "    b3 = tf.Variable(tf.zeros([LABEL_SIZE]),\n",
    "                     name='_obias')\n",
    "\n",
    "h1 = tf.nn.sigmoid(tf.matmul(x, W1) + b1)\n",
    "h2 = tf.nn.sigmoid(tf.matmul(h1, W2) + b2)\n",
    "y = tf.nn.softmax(tf.matmul(h2, W3) + b3)"
   ]
  },
  {
   "cell_type": "markdown",
   "metadata": {},
   "source": [
    "__Loss__"
   ]
  },
  {
   "cell_type": "code",
   "execution_count": 5,
   "metadata": {
    "collapsed": false
   },
   "outputs": [],
   "source": [
    "cross_entropy = tf.reduce_mean(-tf.reduce_sum(t * tf.log(y), reduction_indices=[1]))\n",
    "train_step = tf.train.GradientDescentOptimizer(0.5).minimize(cross_entropy)"
   ]
  },
  {
   "cell_type": "markdown",
   "metadata": {},
   "source": [
    "__Setup session and run__"
   ]
  },
  {
   "cell_type": "code",
   "execution_count": 6,
   "metadata": {
    "collapsed": true
   },
   "outputs": [],
   "source": [
    "def fill_feed_dict(data_set):\n",
    "    images_feed, labels_feed = data_set.next_batch(BATCH_SIZE)\n",
    "    feed_dict = {\n",
    "      x: images_feed,\n",
    "      t: labels_feed,\n",
    "    }\n",
    "    return feed_dict"
   ]
  },
  {
   "cell_type": "code",
   "execution_count": 7,
   "metadata": {
    "collapsed": true
   },
   "outputs": [],
   "source": [
    "def estimate(data_set):\n",
    "    feed_dict = fill_feed_dict(data_set)\n",
    "    correct_prediction = tf.equal(tf.argmax(y,1), tf.argmax(t,1))\n",
    "    accuracy = tf.reduce_mean(tf.cast(correct_prediction, tf.float32))\n",
    "    return accuracy"
   ]
  },
  {
   "cell_type": "code",
   "execution_count": null,
   "metadata": {
    "collapsed": false,
    "scrolled": true
   },
   "outputs": [
    {
     "name": "stdout",
     "output_type": "stream",
     "text": [
      "Step 1: accuracy = 0.10\n",
      "Step 100: accuracy = 0.80\n",
      "Step 200: accuracy = 0.90\n",
      "Step 300: accuracy = 0.80\n",
      "Step 400: accuracy = 0.90\n",
      "Step 500: accuracy = 0.90\n",
      "Step 600: accuracy = 0.80\n",
      "Step 700: accuracy = 0.80\n",
      "Step 800: accuracy = 1.00\n",
      "Step 900: accuracy = 0.70"
     ]
    }
   ],
   "source": [
    "MAX_STEPS = 1000\n",
    "\n",
    "session = tf.InteractiveSession()\n",
    "init = tf.global_variables_initializer()\n",
    "session.run(init)\n",
    "\n",
    "for step in range(1, MAX_STEPS + 1):\n",
    "    accuracy = estimate(mnist.validation)\n",
    "    feed_dict = fill_feed_dict(mnist.train)\n",
    "    _, acc_rate = session.run([train_step, accuracy], feed_dict=feed_dict)\n",
    "    if step == 1 or step == MAX_STEP or step % 100 == 0:\n",
    "        print('Step %d: accuracy = %.2f' % (step, acc_rate))"
   ]
  },
  {
   "cell_type": "markdown",
   "metadata": {},
   "source": [
    "__Evaluate__"
   ]
  },
  {
   "cell_type": "code",
   "execution_count": null,
   "metadata": {
    "collapsed": false
   },
   "outputs": [],
   "source": [
    "correct_prediction = tf.equal(tf.argmax(y,1), tf.argmax(t,1))\n",
    "accuracy = tf.reduce_mean(tf.cast(correct_prediction, tf.float32))\n",
    "result = session.run(accuracy, feed_dict={x: mnist.test.images, t: mnist.test.labels})   \n",
    "print(\"Accuracy is: %.2f%%\" %(result * 100))"
   ]
  },
  {
   "cell_type": "code",
   "execution_count": null,
   "metadata": {
    "collapsed": true
   },
   "outputs": [],
   "source": [
    "# close session to free resources\n",
    "session.close()"
   ]
  },
  {
   "cell_type": "code",
   "execution_count": null,
   "metadata": {
    "collapsed": true
   },
   "outputs": [],
   "source": []
  }
 ],
 "metadata": {
  "kernelspec": {
   "display_name": "Python 3",
   "language": "python",
   "name": "python3"
  },
  "language_info": {
   "codemirror_mode": {
    "name": "ipython",
    "version": 3
   },
   "file_extension": ".py",
   "mimetype": "text/x-python",
   "name": "python",
   "nbconvert_exporter": "python",
   "pygments_lexer": "ipython3",
   "version": "3.5.2"
  }
 },
 "nbformat": 4,
 "nbformat_minor": 0
}
