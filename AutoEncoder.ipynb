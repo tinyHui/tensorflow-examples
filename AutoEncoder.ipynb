{
 "cells": [
  {
   "cell_type": "markdown",
   "metadata": {},
   "source": [
    "Load image"
   ]
  },
  {
   "cell_type": "code",
   "execution_count": 1,
   "metadata": {
    "collapsed": false,
    "scrolled": true
   },
   "outputs": [
    {
     "data": {
      "image/png": "[encoded data removed]",
      "text/plain": [
       "<IPython.core.display.Image object>"
      ]
     },
     "metadata": {},
     "output_type": "display_data"
    }
   ],
   "source": [
    "from scipy import misc\n",
    "from PIL import Image\n",
    "from io import BytesIO\n",
    "import IPython.display\n",
    "import numpy as np\n",
    "\n",
    "PATH = \"resource/alakazam.png\"\n",
    "\n",
    "def display(img):\n",
    "    f = BytesIO()\n",
    "    img = np.uint8(img)\n",
    "    Image.fromarray(img).save(f, 'png')\n",
    "\n",
    "    IPython.display.display(IPython.display.Image(data=f.getvalue()))\n",
    "    \n",
    "image = misc.imread(PATH)\n",
    "image = misc.imresize(image, (80, 80))\n",
    "image = np.dot(image[:,:,:3], [0.299, 0.587, 0.114])\n",
    "display(image)"
   ]
  },
  {
   "cell_type": "markdown",
   "metadata": {},
   "source": [
    "Set Encoder & Decoder"
   ]
  },
  {
   "cell_type": "code",
   "execution_count": 2,
   "metadata": {
    "collapsed": false
   },
   "outputs": [],
   "source": [
    "import tensorflow as tf\n",
    "from functools import reduce\n",
    "import math\n",
    "\n",
    "IMAGE_PIXEL_NUM = reduce(lambda a,b: a*b, image.shape)\n",
    "COMPRESSED_LAYEL_UNIT_NUM = 1000\n",
    "\n",
    "def encoder(x):\n",
    "    with tf.name_scope('encoder'):\n",
    "        W1 = tf.Variable(\n",
    "            tf.random_normal([IMAGE_PIXEL_NUM, 5000], name='w1')\n",
    "            )\n",
    "        b1 = tf.Variable(tf.zeros([5000]),\n",
    "                        name='b1')\n",
    "        W2 = tf.nn.dropout(\n",
    "                tf.Variable(\n",
    "                    tf.random_normal([5000, 3000], name='w2')\n",
    "                        ), 0.5)\n",
    "        b2 = tf.Variable(tf.zeros([3000]),\n",
    "                        name='b2')\n",
    "        W3 = tf.nn.dropout(\n",
    "                tf.Variable(\n",
    "                    tf.random_normal([3000, COMPRESSED_LAYEL_UNIT_NUM], name='w2')\n",
    "                ), 0.5)\n",
    "        b3 = tf.Variable(tf.zeros([COMPRESSED_LAYEL_UNIT_NUM]),\n",
    "                        name='b2')\n",
    "    h1 = tf.nn.sigmoid(tf.add(tf.matmul(x, W1), b1))\n",
    "    h2 = tf.nn.relu(tf.add(tf.matmul(h1, W2), b2))\n",
    "    return tf.nn.relu(tf.add(tf.matmul(h2, W3), b3))\n",
    "    \n",
    "def decoder(x):\n",
    "    with tf.name_scope('decoder'):\n",
    "        W1 = tf.Variable(\n",
    "            tf.random_normal([COMPRESSED_LAYEL_UNIT_NUM, 2000], name='w1')\n",
    "            )\n",
    "        b1 = tf.Variable(tf.zeros([2000]),\n",
    "                        name='b1')\n",
    "        W2 = tf.nn.dropout(\n",
    "                tf.Variable(\n",
    "                    tf.random_normal([2000, 5000], name='w2')\n",
    "                ), 0.5)\n",
    "        b2 = tf.Variable(tf.zeros([5000]),\n",
    "                        name='b2')\n",
    "        W3 = tf.Variable(\n",
    "            tf.random_normal([5000, IMAGE_PIXEL_NUM], name='w3')\n",
    "            )\n",
    "        b3 = tf.Variable(tf.zeros([IMAGE_PIXEL_NUM]),\n",
    "                        name='b3')\n",
    "    h1 = tf.nn.sigmoid(tf.add(tf.matmul(x, W1), b1))\n",
    "    h2 = tf.nn.sigmoid(tf.add(tf.matmul(h1, W2), b2))\n",
    "    return tf.nn.relu(tf.add(tf.matmul(h2, W3), b3))"
   ]
  },
  {
   "cell_type": "markdown",
   "metadata": {},
   "source": [
    "Loss"
   ]
  },
  {
   "cell_type": "code",
   "execution_count": 3,
   "metadata": {
    "collapsed": false
   },
   "outputs": [],
   "source": [
    "LEARNING_RATE = 0.5\n",
    "\n",
    "X = tf.placeholder(tf.float32, shape=(None, IMAGE_PIXEL_NUM))\n",
    "\n",
    "mid_layer = encoder(X)\n",
    "Y = decoder(mid_layer)\n",
    "\n",
    "cost = tf.reduce_mean(tf.pow(X - Y, 2))\n",
    "train_step = tf.train.GradientDescentOptimizer(LEARNING_RATE).minimize(cost)"
   ]
  },
  {
   "cell_type": "markdown",
   "metadata": {},
   "source": [
    "Train"
   ]
  },
  {
   "cell_type": "code",
   "execution_count": 4,
   "metadata": {
    "collapsed": false,
    "scrolled": true
   },
   "outputs": [
    {
     "name": "stdout",
     "output_type": "stream",
     "text": [
      "Epoch: 00001 cost= 9401.566406250\n",
      "Epoch: 00051 cost= 1401.043701172\n",
      "Epoch: 00101 cost= 1271.911254883\n",
      "Epoch: 00151 cost= 1245.617675781\n",
      "Epoch: 00201 cost= 1237.725830078\n",
      "Epoch: 00251 cost= 1229.964721680\n",
      "Epoch: 00301 cost= 1229.864379883\n",
      "Epoch: 00351 cost= 1228.321411133\n",
      "Epoch: 00401 cost= 1225.088012695\n",
      "Epoch: 00451 cost= 1223.550292969\n",
      "Epoch: 00501 cost= 1225.707031250\n",
      "Epoch: 00551 cost= 1222.943237305\n",
      "Optimization Finished!\n"
     ]
    }
   ],
   "source": [
    "EPOCHS = 600\n",
    "DSPLAY_STEP = 50\n",
    "\n",
    "init = tf.global_variables_initializer()\n",
    "\n",
    "x = image.reshape(1, IMAGE_PIXEL_NUM)\n",
    "\n",
    "saver = tf.train.Saver()\n",
    "\n",
    "with tf.Session() as sess:\n",
    "    sess.run(init)\n",
    "    \n",
    "    # Training cycle\n",
    "    for epoch in range(EPOCHS):\n",
    "        _, c = sess.run([train_step, cost], feed_dict={X: x})\n",
    "        \n",
    "        # Display logs per epoch step\n",
    "        if epoch % DSPLAY_STEP == 0:\n",
    "            print(\"Epoch:\", '%05d' % (epoch+1), \"cost=\", \"{:.9f}\".format(c))\n",
    "\n",
    "    save_path = saver.save(sess, \"./session/AutoEncoder.ckpt\")\n",
    "    print(\"Optimization Finished!\")"
   ]
  },
  {
   "cell_type": "code",
   "execution_count": 5,
   "metadata": {
    "collapsed": false
   },
   "outputs": [],
   "source": [
    "with tf.Session() as sess:\n",
    "    saver = tf.train.Saver()\n",
    "    saver.restore(sess, \"./session/AutoEncoder.ckpt\")\n",
    "    target = sess.run(Y, feed_dict={X: x})"
   ]
  },
  {
   "cell_type": "code",
   "execution_count": 6,
   "metadata": {
    "collapsed": false
   },
   "outputs": [
    {
     "data": {
      "image/png": "[encoded data removed]",
      "text/plain": [
       "<IPython.core.display.Image object>"
      ]
     },
     "metadata": {},
     "output_type": "display_data"
    }
   ],
   "source": [
    "target = target.reshape(80, 80)\n",
    "display(target)"
   ]
  },
  {
   "cell_type": "code",
   "execution_count": null,
   "metadata": {
    "collapsed": true
   },
   "outputs": [],
   "source": []
  }
 ],
 "metadata": {
  "kernelspec": {
   "display_name": "Python 3",
   "language": "python",
   "name": "python3"
  },
  "language_info": {
   "codemirror_mode": {
    "name": "ipython",
    "version": 3
   },
   "file_extension": ".py",
   "mimetype": "text/x-python",
   "name": "python",
   "nbconvert_exporter": "python",
   "pygments_lexer": "ipython3",
   "version": "3.5.2"
  }
 },
 "nbformat": 4,
 "nbformat_minor": 0
}
